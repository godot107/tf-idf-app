{
 "cells": [
  {
   "cell_type": "code",
   "execution_count": 1,
   "metadata": {},
   "outputs": [],
   "source": [
    "import sys\n",
    "sys.path.append('..')\n",
    "from utils import lemmatize, drawTilebars, dataminingdf\n",
    "import ipywidgets as widgets\n",
    "import pandas as pd"
   ]
  },
  {
   "cell_type": "code",
   "execution_count": 2,
   "metadata": {},
   "outputs": [
    {
     "data": {
      "text/html": [
       "<div>\n",
       "<style scoped>\n",
       "    .dataframe tbody tr th:only-of-type {\n",
       "        vertical-align: middle;\n",
       "    }\n",
       "\n",
       "    .dataframe tbody tr th {\n",
       "        vertical-align: top;\n",
       "    }\n",
       "\n",
       "    .dataframe thead th {\n",
       "        text-align: right;\n",
       "    }\n",
       "</style>\n",
       "<table border=\"1\" class=\"dataframe\">\n",
       "  <thead>\n",
       "    <tr style=\"text-align: right;\">\n",
       "      <th></th>\n",
       "      <th>docid</th>\n",
       "      <th>title</th>\n",
       "      <th>text</th>\n",
       "      <th>tokencount</th>\n",
       "      <th>category</th>\n",
       "      <th>lineid</th>\n",
       "    </tr>\n",
       "  </thead>\n",
       "  <tbody>\n",
       "    <tr>\n",
       "      <th>0</th>\n",
       "      <td>0</td>\n",
       "      <td>MATLAB</td>\n",
       "      <td>matlab ( matrix laboratory ) be a multi - par...</td>\n",
       "      <td>64</td>\n",
       "      <td>Data mining and machine learning software</td>\n",
       "      <td>0</td>\n",
       "    </tr>\n",
       "    <tr>\n",
       "      <th>1</th>\n",
       "      <td>0</td>\n",
       "      <td>MATLAB</td>\n",
       "      <td>although matlab be intend primarily for numer...</td>\n",
       "      <td>48</td>\n",
       "      <td>Data mining and machine learning software</td>\n",
       "      <td>1</td>\n",
       "    </tr>\n",
       "    <tr>\n",
       "      <th>2</th>\n",
       "      <td>0</td>\n",
       "      <td>MATLAB</td>\n",
       "      <td>as of 2018 , matlab have more than 3 million ...</td>\n",
       "      <td>27</td>\n",
       "      <td>Data mining and machine learning software</td>\n",
       "      <td>2</td>\n",
       "    </tr>\n",
       "    <tr>\n",
       "      <th>3</th>\n",
       "      <td>1</td>\n",
       "      <td>Ray Kurzweil</td>\n",
       "      <td>raymond kurzweil ( ; bear february 12 , 1948 ...</td>\n",
       "      <td>105</td>\n",
       "      <td>Machine learning researchers</td>\n",
       "      <td>0</td>\n",
       "    </tr>\n",
       "    <tr>\n",
       "      <th>4</th>\n",
       "      <td>1</td>\n",
       "      <td>Ray Kurzweil</td>\n",
       "      <td>kurzweil receive the 1999 national medal of t...</td>\n",
       "      <td>141</td>\n",
       "      <td>Machine learning researchers</td>\n",
       "      <td>1</td>\n",
       "    </tr>\n",
       "  </tbody>\n",
       "</table>\n",
       "</div>"
      ],
      "text/plain": [
       "   docid         title                                               text  \\\n",
       "0      0        MATLAB   matlab ( matrix laboratory ) be a multi - par...   \n",
       "1      0        MATLAB   although matlab be intend primarily for numer...   \n",
       "2      0        MATLAB   as of 2018 , matlab have more than 3 million ...   \n",
       "3      1  Ray Kurzweil   raymond kurzweil ( ; bear february 12 , 1948 ...   \n",
       "4      1  Ray Kurzweil   kurzweil receive the 1999 national medal of t...   \n",
       "\n",
       "   tokencount                                   category  lineid  \n",
       "0          64  Data mining and machine learning software       0  \n",
       "1          48  Data mining and machine learning software       1  \n",
       "2          27  Data mining and machine learning software       2  \n",
       "3         105               Machine learning researchers       0  \n",
       "4         141               Machine learning researchers       1  "
      ]
     },
     "execution_count": 2,
     "metadata": {},
     "output_type": "execute_result"
    }
   ],
   "source": [
    "# Sample documents with texts, just first 3 lines.\n",
    "# information retrieval app\n",
    "dataminingdf.head()"
   ]
  },
  {
   "cell_type": "code",
   "execution_count": 3,
   "metadata": {},
   "outputs": [
    {
     "data": {
      "application/vnd.jupyter.widget-view+json": {
       "model_id": "feb33c5c830849b38a246cc7ef51be03",
       "version_major": 2,
       "version_minor": 0
      },
      "text/plain": [
       "Accordion(children=(VBox(children=(HBox(children=(Text(value='', description='Query:'), Button(description='Se…"
      ]
     },
     "metadata": {},
     "output_type": "display_data"
    },
    {
     "data": {
      "application/vnd.jupyter.widget-view+json": {
       "model_id": "9fd77e94e92e4ecf972887407c81ecc0",
       "version_major": 2,
       "version_minor": 0
      },
      "text/plain": [
       "Output()"
      ]
     },
     "metadata": {},
     "output_type": "display_data"
    }
   ],
   "source": [
    "output = widgets.Output()\n",
    "from IPython.display import display\n",
    "\n",
    "lastquery = \"\"\n",
    "lastsort = \"\"\n",
    "lastnorm = \"\"\n",
    "\n",
    "\n",
    "def clicked(b):\n",
    "    output.clear_output()\n",
    "    with output:\n",
    "        _norm = True\n",
    "        _sortby = 'title'\n",
    "        _query = querybox.value\n",
    "        \n",
    "        if (normalizedradio.value == \"false\"):\n",
    "            _norm = False\n",
    "            \n",
    "        if (sortradio.value == 'score'):\n",
    "            _sortby = 'score'\n",
    "            \n",
    "        if (_query == \"\"):\n",
    "            print(\"please enter a query\")\n",
    "        else:\n",
    "            drawTilebars(_query,normalized=_norm,sortby=_sortby).display()\n",
    "\n",
    "\n",
    "querybox = widgets.Text(description='Query:')\n",
    "searchbutton = widgets.Button(description=\"Search\")\n",
    "normalizedradio = widgets.RadioButtons(description=\"Normalized?\",options=['true', 'false'])\n",
    "sortradio = widgets.RadioButtons(description=\"Sort by\",options=['title', 'score'])\n",
    "\n",
    "searchbutton.on_click(clicked)\n",
    "normalizedradio.observe(clicked, names=['value'])\n",
    "sortradio.observe(clicked, names=['value'])\n",
    "\n",
    "list_widgets = [widgets.VBox([widgets.HBox([querybox,searchbutton]),\n",
    "                              widgets.HBox([normalizedradio,sortradio])])]\n",
    "accordion = widgets.Accordion(children=list_widgets)\n",
    "accordion.set_title(0,\"Search Controls\")\n",
    "display(accordion,output)"
   ]
  }
 ],
 "metadata": {
  "kernelspec": {
   "display_name": "general_env",
   "language": "python",
   "name": "python3"
  },
  "language_info": {
   "codemirror_mode": {
    "name": "ipython",
    "version": 3
   },
   "file_extension": ".py",
   "mimetype": "text/x-python",
   "name": "python",
   "nbconvert_exporter": "python",
   "pygments_lexer": "ipython3",
   "version": "3.12.1"
  }
 },
 "nbformat": 4,
 "nbformat_minor": 2
}
